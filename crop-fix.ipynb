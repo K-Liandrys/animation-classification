{
 "cells": [
  {
   "cell_type": "code",
   "execution_count": 8,
   "metadata": {},
   "outputs": [],
   "source": [
    "from PIL import Image\n",
    "from pathlib import Path\n",
    "from concurrent.futures import ProcessPoolExecutor\n"
   ]
  },
  {
   "cell_type": "code",
   "execution_count": 2,
   "metadata": {},
   "outputs": [],
   "source": [
    "import os"
   ]
  },
  {
   "cell_type": "code",
   "execution_count": 3,
   "metadata": {},
   "outputs": [],
   "source": [
    "data = Path('data')\n",
    "data_crop = Path('data_crop')"
   ]
  },
  {
   "cell_type": "code",
   "execution_count": 4,
   "metadata": {},
   "outputs": [
    {
     "data": {
      "text/plain": [
       "['pocahontas',\n",
       " 'mulan',\n",
       " 'kiki',\n",
       " 'howl',\n",
       " 'hercules',\n",
       " 'mermaid',\n",
       " 'models',\n",
       " 'beauty',\n",
       " 'castle',\n",
       " 'mononoke',\n",
       " 'tarzan']"
      ]
     },
     "execution_count": 4,
     "metadata": {},
     "output_type": "execute_result"
    }
   ],
   "source": [
    "classes=os.listdir(str(data))\n",
    "classes"
   ]
  },
  {
   "cell_type": "code",
   "execution_count": 12,
   "metadata": {},
   "outputs": [],
   "source": [
    "classes = ['pocahontas',\n",
    " 'mulan',\n",
    " 'kiki',\n",
    " 'howl',\n",
    " 'hercules',\n",
    " 'mermaid',\n",
    " 'beauty',\n",
    " 'castle',\n",
    " 'mononoke',\n",
    " 'tarzan']"
   ]
  },
  {
   "cell_type": "code",
   "execution_count": 5,
   "metadata": {},
   "outputs": [],
   "source": [
    "# for c in classes:\n",
    "#     os.mkdir(data_crop/c)"
   ]
  },
  {
   "cell_type": "code",
   "execution_count": 10,
   "metadata": {},
   "outputs": [],
   "source": [
    "def crop_class(c):\n",
    "    print(f'Processing {c}...')\n",
    "    exc=20\n",
    "    src_path = data/c\n",
    "    dest_path = data_crop/c\n",
    "    img_fnames = os.listdir(str(src_path))\n",
    "    for img_fname in img_fnames:\n",
    "        img = Image.open(src_path/img_fname)\n",
    "        cropped = img.crop((exc, exc, img.size[0]-exc, img.size[1]-exc))\n",
    "        cropped.save(dest_path/img_fname)"
   ]
  },
  {
   "cell_type": "code",
   "execution_count": null,
   "metadata": {},
   "outputs": [],
   "source": [
    "with ProcessPoolExecutor(max_workers=4) as executor:\n",
    "    for c,_ in zip(classes,executor.map(crop_class,classes)):\n",
    "        continue\n"
   ]
  },
  {
   "cell_type": "code",
   "execution_count": 13,
   "metadata": {},
   "outputs": [
    {
     "name": "stdout",
     "output_type": "stream",
     "text": [
      "True\n",
      "True\n",
      "True\n",
      "True\n",
      "True\n",
      "True\n",
      "True\n",
      "True\n",
      "True\n",
      "True\n"
     ]
    }
   ],
   "source": [
    "#sanity check\n",
    "for c in classes:\n",
    "    src_path = data/c\n",
    "    dest_path = data_crop/c\n",
    "    org = len(os.listdir(str(src_path)))\n",
    "    fin = len(os.listdir(str(dest_path)))\n",
    "    print(org==fin)"
   ]
  }
 ],
 "metadata": {
  "kernelspec": {
   "display_name": "Python 3",
   "language": "python",
   "name": "python3"
  },
  "language_info": {
   "codemirror_mode": {
    "name": "ipython",
    "version": 3
   },
   "file_extension": ".py",
   "mimetype": "text/x-python",
   "name": "python",
   "nbconvert_exporter": "python",
   "pygments_lexer": "ipython3",
   "version": "3.7.1"
  }
 },
 "nbformat": 4,
 "nbformat_minor": 2
}
