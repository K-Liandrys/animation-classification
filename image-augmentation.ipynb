{
 "cells": [
  {
   "cell_type": "code",
   "execution_count": null,
   "metadata": {},
   "outputs": [],
   "source": [
    "%matplotlib inline\n",
    "import matplotlib.pyplot as plt\n",
    "from skimage import data\n",
    "from skimage.transform import rescale\n",
    "import numpy as np"
   ]
  },
  {
   "cell_type": "code",
   "execution_count": null,
   "metadata": {},
   "outputs": [],
   "source": [
    "from pathlib import Path\n",
    "from concurrent.futures import ProcessPoolExecutor"
   ]
  },
  {
   "cell_type": "code",
   "execution_count": null,
   "metadata": {},
   "outputs": [],
   "source": [
    "import skimage as sk\n",
    "import os\n",
    "import random"
   ]
  },
  {
   "cell_type": "code",
   "execution_count": null,
   "metadata": {},
   "outputs": [],
   "source": [
    "from skimage.exposure import is_low_contrast"
   ]
  },
  {
   "cell_type": "markdown",
   "metadata": {},
   "source": [
    "# Grayscale"
   ]
  },
  {
   "cell_type": "code",
   "execution_count": null,
   "metadata": {},
   "outputs": [],
   "source": [
    "from skimage.color import rgb2gray"
   ]
  },
  {
   "cell_type": "code",
   "execution_count": null,
   "metadata": {},
   "outputs": [],
   "source": [
    "PATH = Path('data_draw/data-aug/')\n",
    "\n",
    "classes = os.listdir(PATH)\n",
    "\n",
    "classes"
   ]
  },
  {
   "cell_type": "code",
   "execution_count": null,
   "metadata": {},
   "outputs": [],
   "source": [
    "def grayscale_internet(c):\n",
    "    lc_count=0\n",
    "    c_path = PATH/c\n",
    "    fnames = [f for f in os.listdir(c_path) if f[:3]!=c[:3]]\n",
    "#     fnames = [f for f in os.listdir(c_path)]\n",
    "    for fname in fnames:\n",
    "        img = sk.io.imread(c_path/fname)\n",
    "        if not is_low_contrast(img):\n",
    "            gc_img=np.repeat(rgb2gray(img)[:, :, np.newaxis], 3, axis=2)\n",
    "            new_fname='.'.join(str(fname).split('.')[:-1]) + '-gc.png'\n",
    "            sk.io.imsave(c_path/new_fname, gc_img)\n",
    "        else: lc_count+=1\n",
    "    print(f'{c} low contrast:{lc_count}')"
   ]
  },
  {
   "cell_type": "code",
   "execution_count": null,
   "metadata": {},
   "outputs": [],
   "source": [
    "def grayscale_movie(c):\n",
    "    lc_count=0\n",
    "    c_path = PATH/c\n",
    "    fnames = [f for f in os.listdir(c_path) if f[:3]==c[:3]]\n",
    "    random.shuffle(fnames)\n",
    "    for fname in fnames[:len(fnames)//2]:\n",
    "        img = sk.io.imread(c_path/fname)\n",
    "        if not is_low_contrast(img):\n",
    "            gc_img=np.repeat(rgb2gray(img)[:, :, np.newaxis], 3, axis=2)\n",
    "            new_fname='.'.join(str(fname).split('.')[:-1]) + '-gc.png'\n",
    "            sk.io.imsave(c_path/new_fname, gc_img)\n",
    "        else: lc_count+=1\n",
    "    print(f'{c} low contrast:{lc_count}')"
   ]
  },
  {
   "cell_type": "code",
   "execution_count": null,
   "metadata": {},
   "outputs": [],
   "source": [
    "# test run\n",
    "# grayscale_internet('hercules')"
   ]
  },
  {
   "cell_type": "code",
   "execution_count": null,
   "metadata": {},
   "outputs": [],
   "source": [
    "# test run\n",
    "# grayscale_movie('pocahontas')"
   ]
  },
  {
   "cell_type": "code",
   "execution_count": null,
   "metadata": {},
   "outputs": [],
   "source": [
    "# real run with multiprocessing\n",
    "with ProcessPoolExecutor(max_workers=4) as executor:\n",
    "    for c,_ in zip(classes,executor.map(grayscale_internet,classes)):\n",
    "        continue"
   ]
  },
  {
   "cell_type": "code",
   "execution_count": null,
   "metadata": {},
   "outputs": [],
   "source": [
    "# real run with multiprocessing\n",
    "with ProcessPoolExecutor(max_workers=4) as executor:\n",
    "    for c,_ in zip(classes,executor.map(grayscale_movie,classes)):\n",
    "        continue"
   ]
  },
  {
   "cell_type": "markdown",
   "metadata": {},
   "source": [
    "# Other type of augmentation"
   ]
  },
  {
   "cell_type": "code",
   "execution_count": null,
   "metadata": {},
   "outputs": [],
   "source": [
    "from skimage.util import random_noise\n",
    "from skimage import util\n",
    "from skimage.transform import rotate\n",
    "from skimage import exposure\n",
    "from skimage.transform import rescale"
   ]
  },
  {
   "cell_type": "code",
   "execution_count": null,
   "metadata": {},
   "outputs": [],
   "source": [
    "PATH = Path('data_draw/data-aug/')"
   ]
  },
  {
   "cell_type": "code",
   "execution_count": null,
   "metadata": {},
   "outputs": [],
   "source": [
    "classes = os.listdir(PATH)"
   ]
  },
  {
   "cell_type": "code",
   "execution_count": null,
   "metadata": {},
   "outputs": [],
   "source": [
    "# def img_comparison(a,b):\n",
    "#     return (a==b).sum() == a.shape[0]*a.shape[1]*a.shape[2]\n",
    "def augmentation_internet(c):\n",
    "    lc_count=0\n",
    "    c_path = PATH/c\n",
    "    fnames = [f for f in os.listdir(c_path) if f[:3]!=c[:3]]\n",
    "    for fname in fnames:\n",
    "        img = sk.io.imread(c_path/fname)\n",
    "        if not is_low_contrast(img):\n",
    "            aug_img=np.invert(img)\n",
    "            new_fname='.'.join(str(fname).split('.')[:-1]) + '-invert.png'\n",
    "            sk.io.imsave(c_path/new_fname, aug_img)       \n",
    "\n",
    "            \n",
    "            aug_img=random_noise(img,mode='poisson')\n",
    "            new_fname='.'.join(str(fname).split('.')[:-1]) + '-noise.png'\n",
    "            sk.io.imsave(c_path/new_fname, aug_img)\n",
    "\n",
    "\n",
    "#         aug_img = rescale(img, 3.0 / 4.0)\n",
    "#         new_fname='.'.join(str(fname).split('.')[:-1]) + '-rescale.png'\n",
    "#         sk.io.imsave(c_path/new_fname, aug_img)\n",
    "        \n",
    "        v_min, v_max = np.percentile(img, (0.2, 99.8))\n",
    "        aug_img = exposure.rescale_intensity(img, in_range=(v_min, v_max))\n",
    "        new_fname='.'.join(str(fname).split('.')[:-1]) + '-intensity.png'\n",
    "        sk.io.imsave(c_path/new_fname, aug_img)\n",
    "        if is_low_contrast(img):\n",
    "            lc_count+=1\n",
    "            aug_img=np.invert(aug_img)\n",
    "            new_fname+='.invert.png'\n",
    "            sk.io.imsave(c_path/new_fname, aug_img) \n",
    "            \n",
    "        \n",
    "        aug_img=exposure.adjust_log(img)\n",
    "        new_fname='.'.join(str(fname).split('.')[:-1]) + '-log.png'\n",
    "        if not is_low_contrast(aug_img):\n",
    "            sk.io.imsave(c_path/new_fname, aug_img)\n",
    "\n",
    "        aug_img=exposure.adjust_sigmoid(img)\n",
    "        new_fname='.'.join(str(fname).split('.')[:-1]) + '-sigmoid.png'\n",
    "        if not is_low_contrast(aug_img):\n",
    "            sk.io.imsave(c_path/new_fname, aug_img)\n",
    "            \n",
    "    print(f'{c} low contrast:{lc_count}')"
   ]
  },
  {
   "cell_type": "code",
   "execution_count": null,
   "metadata": {},
   "outputs": [],
   "source": [
    "# test run\n",
    "# augmentation_internet('hercules')"
   ]
  },
  {
   "cell_type": "code",
   "execution_count": null,
   "metadata": {
    "scrolled": true
   },
   "outputs": [],
   "source": [
    "# real run multiprocessing\n",
    "with ProcessPoolExecutor(max_workers=4) as executor:\n",
    "    for c,_ in zip(classes,executor.map(augmentation_internet,classes)):\n",
    "        continue"
   ]
  },
  {
   "cell_type": "markdown",
   "metadata": {},
   "source": [
    "# Add grayscale to validation set (since test set will have grayscale sketch)"
   ]
  },
  {
   "cell_type": "code",
   "execution_count": null,
   "metadata": {},
   "outputs": [],
   "source": [
    "from skimage.color import rgb2gray\n",
    "\n",
    "PATH = Path('data_draw/valid/')\n",
    "\n",
    "classes = os.listdir(PATH)\n"
   ]
  },
  {
   "cell_type": "code",
   "execution_count": null,
   "metadata": {},
   "outputs": [],
   "source": [
    "def grayscale_valid(c):\n",
    "    lc_count=0\n",
    "    c_path = PATH/c\n",
    "    fnames = [f for f in os.listdir(c_path)]\n",
    "    for fname in fnames:\n",
    "        img = sk.io.imread(c_path/fname)\n",
    "        if not is_low_contrast(img):\n",
    "            gc_img=np.repeat(rgb2gray(img)[:, :, np.newaxis], 3, axis=2)\n",
    "            new_fname='.'.join(str(fname).split('.')[:-1]) + '-gc.png'\n",
    "            sk.io.imsave(c_path/new_fname, gc_img)\n",
    "        else: lc_count+=1\n",
    "    print(f'{c} low contrast:{lc_count}')"
   ]
  },
  {
   "cell_type": "code",
   "execution_count": null,
   "metadata": {},
   "outputs": [],
   "source": [
    "with ProcessPoolExecutor(max_workers=4) as executor:\n",
    "    for c,_ in zip(classes,executor.map(grayscale_valid,classes)):\n",
    "        continue"
   ]
  }
 ],
 "metadata": {
  "kernelspec": {
   "display_name": "Python 3",
   "language": "python",
   "name": "python3"
  },
  "language_info": {
   "codemirror_mode": {
    "name": "ipython",
    "version": 3
   },
   "file_extension": ".py",
   "mimetype": "text/x-python",
   "name": "python",
   "nbconvert_exporter": "python",
   "pygments_lexer": "ipython3",
   "version": "3.7.1"
  }
 },
 "nbformat": 4,
 "nbformat_minor": 2
}
