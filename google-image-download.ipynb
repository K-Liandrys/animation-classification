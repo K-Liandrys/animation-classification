{
 "cells": [
  {
   "cell_type": "code",
   "execution_count": null,
   "metadata": {
    "scrolled": true
   },
   "outputs": [],
   "source": [
    "!googleimagesdownload -k \"disney tarzan cosplay\" -s medium -l 100 -o . -i data/temp -cd C:\\\\Users\\\\qtran\\\\chromedriver_win32\\\\chromedriver.exe "
   ]
  },
  {
   "cell_type": "code",
   "execution_count": null,
   "metadata": {
    "scrolled": false
   },
   "outputs": [],
   "source": [
    "# !googleimagesdownload -k \"sheeta castle in the sky sketch\" -s medium -l 20 -o . -i data/temp -cd C:\\\\Users\\\\qtran\\\\chromedriver_win32\\\\chromedriver.exe -wr \"{\\\"time_min\\\":\\\"01/01/2011\\\",\\\"time_max\\\":\\\"01/01/2015\\\"}\""
   ]
  }
 ],
 "metadata": {
  "kernelspec": {
   "display_name": "Python 3",
   "language": "python",
   "name": "python3"
  },
  "language_info": {
   "codemirror_mode": {
    "name": "ipython",
    "version": 3
   },
   "file_extension": ".py",
   "mimetype": "text/x-python",
   "name": "python",
   "nbconvert_exporter": "python",
   "pygments_lexer": "ipython3",
   "version": "3.7.1"
  }
 },
 "nbformat": 4,
 "nbformat_minor": 2
}
