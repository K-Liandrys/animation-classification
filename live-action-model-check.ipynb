{
 "cells": [
  {
   "cell_type": "code",
   "execution_count": null,
   "metadata": {},
   "outputs": [],
   "source": [
    "%reload_ext autoreload\n",
    "%autoreload 2\n",
    "%matplotlib inline"
   ]
  },
  {
   "cell_type": "code",
   "execution_count": null,
   "metadata": {},
   "outputs": [],
   "source": [
    "seed=42\n",
    "\n",
    "from fastai.vision import *\n",
    "from fastai.callbacks.hooks import *\n",
    "\n",
    "import gc\n",
    "\n",
    "np.random.seed(seed)\n",
    "\n",
    "\n",
    "# reset learner\n",
    "def reset_learner(data,is_fp16=False):\n",
    "    learn=None\n",
    "    gc.collect()\n",
    "    learn = create_cnn(data, models.resnet50, metrics=accuracy)\n",
    "    if is_fp16:\n",
    "        learn = learn.to_fp16()\n",
    "    return learn\n"
   ]
  },
  {
   "cell_type": "code",
   "execution_count": null,
   "metadata": {},
   "outputs": [],
   "source": [
    "from gradcam import *"
   ]
  },
  {
   "cell_type": "code",
   "execution_count": null,
   "metadata": {},
   "outputs": [],
   "source": [
    "PATH = Path('data_draw')"
   ]
  },
  {
   "cell_type": "code",
   "execution_count": null,
   "metadata": {},
   "outputs": [],
   "source": [
    "data=None\n",
    "gc.collect()\n",
    "\n",
    "tfms = get_transforms()\n",
    "data= ImageDataBunch.from_folder(PATH,train='train',valid='test-liveaction',bs=60,\n",
    "                                 ds_tfms = tfms,size=300,num_workers=4).normalize(imagenet_stats)\n",
    "\n",
    "learn= reset_learner(data)\n",
    "learn.load('final-stage1-350-new-8epochs-303');"
   ]
  },
  {
   "cell_type": "code",
   "execution_count": null,
   "metadata": {},
   "outputs": [],
   "source": [
    "interp = ClassificationInterpretation.from_learner(learn)"
   ]
  },
  {
   "cell_type": "code",
   "execution_count": null,
   "metadata": {},
   "outputs": [],
   "source": [
    "interp.most_confused()"
   ]
  },
  {
   "cell_type": "code",
   "execution_count": null,
   "metadata": {
    "scrolled": true
   },
   "outputs": [],
   "source": [
    "interp.plot_top_losses(16,figsize=(30,30))"
   ]
  },
  {
   "cell_type": "code",
   "execution_count": null,
   "metadata": {},
   "outputs": [],
   "source": [
    "len(data.valid_ds)"
   ]
  },
  {
   "cell_type": "code",
   "execution_count": null,
   "metadata": {
    "scrolled": false
   },
   "outputs": [],
   "source": [
    "for idx in range(0,20):\n",
    "    gcam = GradCam.from_interp(learn,interp,idx,include_label=True)\n",
    "    gcam.plot()"
   ]
  },
  {
   "cell_type": "code",
   "execution_count": null,
   "metadata": {
    "scrolled": false
   },
   "outputs": [],
   "source": [
    "\n",
    "for idx in range(20,40):\n",
    "    gcam = GradCam.from_interp(learn,interp,idx,include_label=True)\n",
    "    gcam.plot()"
   ]
  },
  {
   "cell_type": "code",
   "execution_count": null,
   "metadata": {
    "scrolled": false
   },
   "outputs": [],
   "source": [
    "\n",
    "for idx in range(40,54):\n",
    "    gcam = GradCam.from_interp(learn,interp,idx,include_label=True)\n",
    "    gcam.plot()"
   ]
  }
 ],
 "metadata": {
  "kernelspec": {
   "display_name": "Python 3",
   "language": "python",
   "name": "python3"
  },
  "language_info": {
   "codemirror_mode": {
    "name": "ipython",
    "version": 3
   },
   "file_extension": ".py",
   "mimetype": "text/x-python",
   "name": "python",
   "nbconvert_exporter": "python",
   "pygments_lexer": "ipython3",
   "version": "3.7.1"
  }
 },
 "nbformat": 4,
 "nbformat_minor": 2
}
