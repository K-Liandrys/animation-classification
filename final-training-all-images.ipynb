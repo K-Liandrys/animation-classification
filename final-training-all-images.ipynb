{
 "cells": [
  {
   "cell_type": "code",
   "execution_count": 1,
   "metadata": {},
   "outputs": [],
   "source": [
    "%reload_ext autoreload\n",
    "%autoreload 2\n",
    "%matplotlib inline\n",
    "\n",
    "seed=42"
   ]
  },
  {
   "cell_type": "code",
   "execution_count": 2,
   "metadata": {},
   "outputs": [],
   "source": [
    "from fastai.vision import *\n",
    "from fastai.callbacks.hooks import *\n",
    "\n",
    "import gc\n",
    "\n",
    "np.random.seed(seed)\n",
    "\n",
    "PATH = Path('data_draw')\n",
    "\n",
    "# reset learner\n",
    "def reset_learner(data,is_fp16=False):\n",
    "    learn=None\n",
    "    gc.collect()\n",
    "    learn = create_cnn(data, models.resnet50, metrics=accuracy)\n",
    "    if is_fp16:\n",
    "        learn = learn.to_fp16()\n",
    "    return learn\n",
    "def get_data(bs,size,tfms,path=PATH,seed=seed):\n",
    "    np.random.seed(seed)\n",
    "#     tfms = get_transforms(do_flip=True, max_rotate=5, max_zoom=1, max_lighting=0.2, max_warp=0,p_affine=0,p_lighting=0.75)\n",
    "    return ImageDataBunch.from_folder(path,train='train',valid='valid',bs=bs,ds_tfms = tfms,size=size,num_workers=4).normalize(imagenet_stats)\n",
    "\n"
   ]
  },
  {
   "cell_type": "markdown",
   "metadata": {},
   "source": [
    "# stage 1 size 300"
   ]
  },
  {
   "cell_type": "code",
   "execution_count": 3,
   "metadata": {},
   "outputs": [],
   "source": [
    "# default\n",
    "data=None\n",
    "gc.collect()\n",
    "\n",
    "tfms = get_transforms()\n",
    "data = get_data(78,300,tfms)\n",
    "learn= reset_learner(data,is_fp16=True)"
   ]
  },
  {
   "cell_type": "code",
   "execution_count": 4,
   "metadata": {},
   "outputs": [
    {
     "data": {
      "text/html": [
       "Total time: 1:12:29 <p><table style='width:300px; margin-bottom:10px'>\n",
       "  <tr>\n",
       "    <th>epoch</th>\n",
       "    <th>train_loss</th>\n",
       "    <th>valid_loss</th>\n",
       "    <th>accuracy</th>\n",
       "  </tr>\n",
       "  <tr>\n",
       "    <th>1</th>\n",
       "    <th>0.443387</th>\n",
       "    <th>0.429400</th>\n",
       "    <th>0.864198</th>\n",
       "  </tr>\n",
       "  <tr>\n",
       "    <th>2</th>\n",
       "    <th>0.438887</th>\n",
       "    <th>0.553943</th>\n",
       "    <th>0.827932</th>\n",
       "  </tr>\n",
       "  <tr>\n",
       "    <th>3</th>\n",
       "    <th>0.363468</th>\n",
       "    <th>0.691960</th>\n",
       "    <th>0.802469</th>\n",
       "  </tr>\n",
       "  <tr>\n",
       "    <th>4</th>\n",
       "    <th>0.279841</th>\n",
       "    <th>0.275809</th>\n",
       "    <th>0.905093</th>\n",
       "  </tr>\n",
       "  <tr>\n",
       "    <th>5</th>\n",
       "    <th>0.196060</th>\n",
       "    <th>0.165789</th>\n",
       "    <th>0.951389</th>\n",
       "  </tr>\n",
       "  <tr>\n",
       "    <th>6</th>\n",
       "    <th>0.126328</th>\n",
       "    <th>0.070487</th>\n",
       "    <th>0.976852</th>\n",
       "  </tr>\n",
       "  <tr>\n",
       "    <th>7</th>\n",
       "    <th>0.095652</th>\n",
       "    <th>0.049324</th>\n",
       "    <th>0.985340</th>\n",
       "  </tr>\n",
       "  <tr>\n",
       "    <th>8</th>\n",
       "    <th>0.075177</th>\n",
       "    <th>0.045223</th>\n",
       "    <th>0.986111</th>\n",
       "  </tr>\n",
       "</table>\n"
      ],
      "text/plain": [
       "<IPython.core.display.HTML object>"
      ]
     },
     "metadata": {},
     "output_type": "display_data"
    }
   ],
   "source": [
    "learn.freeze()\n",
    "learn.fit_one_cycle(8,max_lr=8e-03)"
   ]
  },
  {
   "cell_type": "code",
   "execution_count": 6,
   "metadata": {},
   "outputs": [],
   "source": [
    "# learn.save('final-stage1-300-new-8epochs');"
   ]
  },
  {
   "cell_type": "markdown",
   "metadata": {},
   "source": [
    "# stage 2 size 300"
   ]
  },
  {
   "cell_type": "code",
   "execution_count": 7,
   "metadata": {},
   "outputs": [],
   "source": [
    "tfms = get_transforms()\n",
    "data=None\n",
    "gc.collect()\n",
    "data = get_data(64,300,tfms)\n",
    "learn= reset_learner(data,is_fp16=True)"
   ]
  },
  {
   "cell_type": "code",
   "execution_count": null,
   "metadata": {},
   "outputs": [],
   "source": [
    "learn.load('final-stage1-300-new-8epochs');"
   ]
  },
  {
   "cell_type": "code",
   "execution_count": 8,
   "metadata": {},
   "outputs": [
    {
     "data": {
      "text/html": [
       "Total time: 56:49 <p><table style='width:300px; margin-bottom:10px'>\n",
       "  <tr>\n",
       "    <th>epoch</th>\n",
       "    <th>train_loss</th>\n",
       "    <th>valid_loss</th>\n",
       "    <th>accuracy</th>\n",
       "  </tr>\n",
       "  <tr>\n",
       "    <th>1</th>\n",
       "    <th>0.291655</th>\n",
       "    <th>0.236876</th>\n",
       "    <th>0.919753</th>\n",
       "  </tr>\n",
       "  <tr>\n",
       "    <th>2</th>\n",
       "    <th>0.156573</th>\n",
       "    <th>0.116325</th>\n",
       "    <th>0.966049</th>\n",
       "  </tr>\n",
       "  <tr>\n",
       "    <th>3</th>\n",
       "    <th>0.088474</th>\n",
       "    <th>0.032272</th>\n",
       "    <th>0.990741</th>\n",
       "  </tr>\n",
       "  <tr>\n",
       "    <th>4</th>\n",
       "    <th>0.030241</th>\n",
       "    <th>0.010092</th>\n",
       "    <th>0.995370</th>\n",
       "  </tr>\n",
       "  <tr>\n",
       "    <th>5</th>\n",
       "    <th>0.016753</th>\n",
       "    <th>0.003159</th>\n",
       "    <th>0.999228</th>\n",
       "  </tr>\n",
       "</table>\n"
      ],
      "text/plain": [
       "<IPython.core.display.HTML object>"
      ]
     },
     "metadata": {},
     "output_type": "display_data"
    }
   ],
   "source": [
    "old_lr = 8e-03\n",
    "learn.unfreeze()\n",
    "learn.fit_one_cycle(5,max_lr=slice(8e-06,old_lr/5))"
   ]
  },
  {
   "cell_type": "code",
   "execution_count": 10,
   "metadata": {},
   "outputs": [],
   "source": [
    "# learn.save('final-stage2-300-new-5epochs');"
   ]
  },
  {
   "cell_type": "markdown",
   "metadata": {},
   "source": [
    "# stage 1 size 350"
   ]
  },
  {
   "cell_type": "code",
   "execution_count": 3,
   "metadata": {},
   "outputs": [],
   "source": [
    "data=None\n",
    "gc.collect()\n",
    "\n",
    "tfms = get_transforms()\n",
    "data = get_data(60,350,tfms)\n",
    "learn= reset_learner(data,is_fp16=True)\n",
    "learn.load('final-stage2-300-new-5epochs');"
   ]
  },
  {
   "cell_type": "code",
   "execution_count": 5,
   "metadata": {},
   "outputs": [
    {
     "data": {
      "text/html": [
       "Total time: 58:06 <p><table style='width:300px; margin-bottom:10px'>\n",
       "  <tr>\n",
       "    <th>epoch</th>\n",
       "    <th>train_loss</th>\n",
       "    <th>valid_loss</th>\n",
       "    <th>accuracy</th>\n",
       "  </tr>\n",
       "  <tr>\n",
       "    <th>1</th>\n",
       "    <th>0.041577</th>\n",
       "    <th>0.020128</th>\n",
       "    <th>0.993827</th>\n",
       "  </tr>\n",
       "  <tr>\n",
       "    <th>2</th>\n",
       "    <th>0.064348</th>\n",
       "    <th>0.015572</th>\n",
       "    <th>0.993827</th>\n",
       "  </tr>\n",
       "  <tr>\n",
       "    <th>3</th>\n",
       "    <th>0.048684</th>\n",
       "    <th>0.019544</th>\n",
       "    <th>0.996142</th>\n",
       "  </tr>\n",
       "  <tr>\n",
       "    <th>4</th>\n",
       "    <th>0.032033</th>\n",
       "    <th>0.004563</th>\n",
       "    <th>0.997685</th>\n",
       "  </tr>\n",
       "  <tr>\n",
       "    <th>5</th>\n",
       "    <th>0.029207</th>\n",
       "    <th>0.004492</th>\n",
       "    <th>0.998457</th>\n",
       "  </tr>\n",
       "</table>\n"
      ],
      "text/plain": [
       "<IPython.core.display.HTML object>"
      ]
     },
     "metadata": {},
     "output_type": "display_data"
    }
   ],
   "source": [
    "# learn.freeze()\n",
    "# learn.fit_one_cycle(5,max_lr=3e-03)\n",
    "# learn.save('final-stage1-350-new-5epochs-303');"
   ]
  },
  {
   "cell_type": "code",
   "execution_count": 4,
   "metadata": {},
   "outputs": [
    {
     "data": {
      "text/html": [
       "Total time: 1:33:12 <p><table style='width:300px; margin-bottom:10px'>\n",
       "  <tr>\n",
       "    <th>epoch</th>\n",
       "    <th>train_loss</th>\n",
       "    <th>valid_loss</th>\n",
       "    <th>accuracy</th>\n",
       "  </tr>\n",
       "  <tr>\n",
       "    <th>1</th>\n",
       "    <th>0.036529</th>\n",
       "    <th>0.021894</th>\n",
       "    <th>0.995370</th>\n",
       "  </tr>\n",
       "  <tr>\n",
       "    <th>2</th>\n",
       "    <th>0.093634</th>\n",
       "    <th>0.092346</th>\n",
       "    <th>0.969136</th>\n",
       "  </tr>\n",
       "  <tr>\n",
       "    <th>3</th>\n",
       "    <th>0.088372</th>\n",
       "    <th>0.040983</th>\n",
       "    <th>0.988426</th>\n",
       "  </tr>\n",
       "  <tr>\n",
       "    <th>4</th>\n",
       "    <th>0.073058</th>\n",
       "    <th>0.081078</th>\n",
       "    <th>0.973765</th>\n",
       "  </tr>\n",
       "  <tr>\n",
       "    <th>5</th>\n",
       "    <th>0.048307</th>\n",
       "    <th>0.024442</th>\n",
       "    <th>0.993827</th>\n",
       "  </tr>\n",
       "  <tr>\n",
       "    <th>6</th>\n",
       "    <th>0.032650</th>\n",
       "    <th>0.009546</th>\n",
       "    <th>0.996914</th>\n",
       "  </tr>\n",
       "  <tr>\n",
       "    <th>7</th>\n",
       "    <th>0.018685</th>\n",
       "    <th>0.007257</th>\n",
       "    <th>0.997685</th>\n",
       "  </tr>\n",
       "  <tr>\n",
       "    <th>8</th>\n",
       "    <th>0.018920</th>\n",
       "    <th>0.007084</th>\n",
       "    <th>0.998457</th>\n",
       "  </tr>\n",
       "</table>\n"
      ],
      "text/plain": [
       "<IPython.core.display.HTML object>"
      ]
     },
     "metadata": {},
     "output_type": "display_data"
    }
   ],
   "source": [
    "learn.freeze()\n",
    "learn.fit_one_cycle(8,max_lr=3e-03)\n",
    "# learn.save('final-stage1-350-new-8epochs-303');"
   ]
  }
 ],
 "metadata": {
  "kernelspec": {
   "display_name": "Python 3",
   "language": "python",
   "name": "python3"
  },
  "language_info": {
   "codemirror_mode": {
    "name": "ipython",
    "version": 3
   },
   "file_extension": ".py",
   "mimetype": "text/x-python",
   "name": "python",
   "nbconvert_exporter": "python",
   "pygments_lexer": "ipython3",
   "version": "3.7.1"
  }
 },
 "nbformat": 4,
 "nbformat_minor": 2
}
